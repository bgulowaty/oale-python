{
 "cells": [
  {
   "cell_type": "code",
   "execution_count": 1,
   "metadata": {},
   "outputs": [
    {
     "name": "stdout",
     "output_type": "stream",
     "text": [
      "\u001b[31mERROR: ./stream-learn-bg is not a valid editable requirement. It should either be a path to a local project or a VCS URL (beginning with svn+, git+, hg+, or bzr+).\u001b[0m\n"
     ]
    }
   ],
   "source": [
    "!pip install -e ./stream-learn-bg"
   ]
  },
  {
   "cell_type": "code",
   "execution_count": 1,
   "metadata": {},
   "outputs": [
    {
     "name": "stdout",
     "output_type": "stream",
     "text": [
      "Requirement already satisfied: attrs in /opt/conda/lib/python3.7/site-packages (19.1.0)\n"
     ]
    }
   ],
   "source": [
    "!pip install attrs"
   ]
  },
  {
   "cell_type": "code",
   "execution_count": 1,
   "metadata": {},
   "outputs": [],
   "source": [
    "from strlearn.streams import StreamGenerator"
   ]
  },
  {
   "cell_type": "code",
   "execution_count": 2,
   "metadata": {},
   "outputs": [],
   "source": [
    "stream = StreamGenerator(n_classes=2, n_drifts=1)"
   ]
  },
  {
   "cell_type": "code",
   "execution_count": 3,
   "metadata": {},
   "outputs": [],
   "source": [
    "import numpy as np\n",
    "from attr import attrs, attrib, Factory\n",
    "from copy import deepcopy\n",
    "from typing import List, Callable, NewType, Any, Optional, Dict, Union\n",
    "from sklearn.naive_bayes import GaussianNB\n",
    "from abc import ABC, abstractmethod"
   ]
  },
  {
   "cell_type": "code",
   "execution_count": 4,
   "metadata": {},
   "outputs": [],
   "source": [
    "from sklearn.base import BaseEstimator, ClassifierMixin\n",
    "from sklearn.utils.validation import check_X_y, check_array, check_is_fitted"
   ]
  },
  {
   "cell_type": "code",
   "execution_count": 5,
   "metadata": {},
   "outputs": [],
   "source": [
    "Instance = NewType('Instance', Any)\n"
   ]
  },
  {
   "cell_type": "code",
   "execution_count": 200,
   "metadata": {},
   "outputs": [],
   "source": [
    "from copy import deepcopy\n",
    "\n",
    "Classifier = NewType('Classifier', Union[BaseEstimator, ClassifierMixin])\n",
    "ClassifierProvider = NewType('ClassifierProvider', Callable[[List, List, List], Classifier]) # (X, y, classes) -> fitted clf instance\n",
    "\n",
    "class NoClassifierProvided(Exception):\n",
    "    pass\n",
    "\n",
    "@attrs(frozen=True, auto_attribs=True)\n",
    "class ClassifierSupplier():\n",
    "    _provider: Optional[ClassifierProvider] = None\n",
    "    _classifier: Optional[Classifier] = None\n",
    "        \n",
    "    def get(self, X, y, classes=None):\n",
    "        if self._provider is not None:\n",
    "            return self._provider(X, y, classes)\n",
    "        elif self._classifier is not None:\n",
    "            clf = deepcopy(self._classifier)\n",
    "            clf.partial_fit(X, y, classes)\n",
    "            return clf\n",
    "        \n",
    "        raise NoClassifierProvided"
   ]
  },
  {
   "cell_type": "code",
   "execution_count": 7,
   "metadata": {},
   "outputs": [],
   "source": [
    "from abc import ABCMeta, abstractmethod\n",
    "\n",
    "class BaseEnsemblePredictionCombiner(metaclass=ABCMeta):\n",
    "\n",
    "    @abstractmethod\n",
    "    def predict(self, x):\n",
    "        raise NotImplementedError\n",
    "        \n",
    "\n",
    "    @abstractmethod\n",
    "    def predict_proba(self, x):\n",
    "        raise NotImplementedError\n"
   ]
  },
  {
   "cell_type": "code",
   "execution_count": 8,
   "metadata": {},
   "outputs": [],
   "source": [
    "@attrs\n",
    "class WeightedMajorityPredictionCombiner(BaseEnsemblePredictionCombiner):\n",
    "    _ensemble = attrib()\n",
    "    _weights = attrib()\n",
    "    _classes = attrib()\n",
    "\n",
    "    def predict(self, x):\n",
    "        x = check_array(x)\n",
    "        all_members_can_return_supports = all([hasattr(clf, 'predict_proba') for clf in self._ensemble])\n",
    "    \n",
    "        if all_members_can_return_supports:\n",
    "            supports_by_clf = [clf.predict_proba(x) * weight for (weight, clf) in zip(self._weights, self._ensemble)]\n",
    "            supports_sum_by_sample = sum(supports_by_clf)\n",
    "            predictions = [self._classes[idx] for idx in np.argmax(supports_sum_by_sample, axis=1)]\n",
    "\n",
    "        else:\n",
    "            predictions_by_clf = [clf.predict(x) for clf in self._ensemble]\n",
    "            supports_by_clf = [\n",
    "                np.vstack(\n",
    "                    [(predictions == clazz).T * weight for clazz in self._classes]\n",
    "                ) for (weight, predictions) in zip(self._weights, predictions_by_clf)\n",
    "            ]\n",
    "\n",
    "            supports_sum_by_sample = sum(supports_by_clf)\n",
    "\n",
    "            predictions = [self._classes[idx] for idx in np.argmax(supports_sum_by_sample, axis=0)]\n",
    "    \n",
    "        return np.array(predictions)"
   ]
  },
  {
   "cell_type": "code",
   "execution_count": null,
   "metadata": {},
   "outputs": [],
   "source": []
  },
  {
   "cell_type": "code",
   "execution_count": 223,
   "metadata": {},
   "outputs": [],
   "source": [
    "class BaseClassifierDoesNotSupportPartialFitting(Exception):\n",
    "    \"\"\"Provided base classifier does not support partial fitting\"\"\"\n",
    "\n",
    "@attrs(auto_attribs=True)\n",
    "class OALE(BaseEstimator, ClassifierMixin):\n",
    "    \n",
    "    _classifier_supplier: ClassifierSupplier = ClassifierSupplier(classifier=GaussianNB())\n",
    "        \n",
    "    _block_size: int = 30 # I\n",
    "    _dynamics_clfs_limit: int = 10 # D\n",
    "        \n",
    "    _initial_selection_ratio: int = 0.10 # r\n",
    "    _threshold_adjustment_step: int = 0.05 # s\n",
    "    _margin_threshold: int = 0.3 # theta\n",
    "    _random_strategy_threshold: int = 0.05 # sigma\n",
    "\n",
    "    _classes: List = attrib(factory=list, init=False)\n",
    "    _cache: List[Instance] = attrib(factory=list, init=False) # of tuples (x,y)\n",
    "    \n",
    "    _processed_instances: int = attrib(default=0, init=False)\n",
    "    _theta_m: int = attrib(default=0, init=False)\n",
    "    \n",
    "    _stable_clf: Optional[Classifier] = attrib(default=None, init=False)\n",
    "    _stable_clf_weight: int = attrib(init=False, default=0.5)\n",
    "    _dynamic_clfs_weights: List[int] = attrib(factory=list, init=False)\n",
    "    _dynamic_clfs: List[Classifier] = attrib(factory=list, init=False)\n",
    "        \n",
    "    \n",
    "    def partial_fit(self, X, y, classes=None):\n",
    "        X, y = check_X_y(X, y)\n",
    "        \n",
    "        self._classes = classes\n",
    "        if self._classes is None:\n",
    "            self._classes, _ = np.unique(y, return_inverse=True)\n",
    "        \n",
    "        \n",
    "        for x_single, y_single in zip(X, y):\n",
    "            self._partial_fit(x_single, y_single, classes)\n",
    "        \n",
    "    def _partial_fit(self, x_new, y_new, classes=None):\n",
    "\n",
    "        new_instance = (x_new, y_new)\n",
    "        self._processed_instances += 1\n",
    "        \n",
    "        if self._processed_instances < self._block_size: # fill the circular array for the first time\n",
    "            self._cache.append(new_instance)\n",
    "            \n",
    "        elif self._processed_instances == self._block_size: # the first fill of the circular array\n",
    "            self._cache.append(new_instance)\n",
    "            new_clf = self._create_new_classifier()\n",
    "            self._stable_clf = new_clf # create C_s\n",
    "            self._add_new_dynamic_clf(deepcopy(new_clf))\n",
    "        else: # more instances processed than block size\n",
    "            i = (self._processed_instances - 1)%self._block_size # i is the current index for a\n",
    "            \n",
    "            self._deal_instance(new_instance, i)\n",
    "            \n",
    "            i = (i + 1)%self._block_size  # i moves circularly\n",
    "            if i == 0:  # new instances fill A again\n",
    "                self._add_new_dynamic_clf(self._create_new_classifier())\n",
    "                \n",
    "                self._theta_m = self._margin_threshold * 2/len(self._classes) # reset theta_m for UncertaintyStrategy\n",
    "                \n",
    "                if len(self._dynamic_clfs) > self._dynamics_clfs_limit: \n",
    "                    self._delete_oldest_dynamic_classifier()\n",
    "                    \n",
    "                self._update_weights()\n",
    "\n",
    "        return self\n",
    "            \n",
    "    \n",
    "    def _add_new_dynamic_clf(self, clf):\n",
    "        self._dynamic_clfs = np.append(self._dynamic_clfs, clf)\n",
    "        self._dynamic_clfs_weights = np.append(self._dynamic_clfs_weights, 1/self._dynamics_clfs_limit)\n",
    "    \n",
    "    def _delete_oldest_dynamic_classifier(self):\n",
    "        self._dynamic_clfs = np.delete(self._dynamic_clfs, 0)\n",
    "        self._dynamic_clfs_weights = np.delete(self._dynamic_clfs_weights, 0)\n",
    "    \n",
    "    def predict(self, x):\n",
    "        x = check_array(x)\n",
    "        \n",
    "        ensemble, weights = self._get_compact_ensemble_with_weights()\n",
    "        \n",
    "        return WeightedMajorityPredictionCombiner(\n",
    "            ensemble=ensemble,\n",
    "            weights=weights,\n",
    "            classes=self._classes)\\\n",
    "        .predict(x)\n",
    "        \n",
    "        \n",
    "    def predict_proba(self, x):\n",
    "        x = check_array(x)\n",
    "        \n",
    "        ensemble, weights = self._get_compact_ensemble_with_weights()\n",
    "        \n",
    "        return WeightedMajorityPredictionCombiner(\n",
    "            ensemble=ensemble,\n",
    "            weights=weights,\n",
    "            classes=self._classes)\\\n",
    "        .predict_proba(x)\n",
    "    \n",
    "    def _update_classifier(self, x, y, clf):\n",
    "        y = [y] if not isinstance(y, np.ndarray) else y\n",
    "        x = np.array(x)\n",
    "        x = np.array([x]) if x.ndim == 1 else x\n",
    "        try:\n",
    "            clf.partial_fit(x, y, self._classes)\n",
    "        except Exception as e:\n",
    "            raise BaseClassifierDoesNotSupportPartialFitting(e)\n",
    "        \n",
    "    \n",
    "    def _random_strategy(self, x):\n",
    "        if self._random_strategy_threshold <= np.random.uniform():\n",
    "            return True\n",
    "        return False\n",
    "    \n",
    "    def _uncertainty_stragety(self, x):\n",
    "        margin = self._calculate_margin(x)\n",
    "        \n",
    "        if margin < self._theta_m:\n",
    "            self._theta_m = self._theta_m * (1 - self._threshold_adjustment_step)\n",
    "            return True\n",
    "        \n",
    "        return False\n",
    "    \n",
    "    def _get_compact_ensemble_with_weights(self):\n",
    "        return (\n",
    "            np.concatenate(([self._stable_clf], self._dynamic_clfs)),\n",
    "            np.concatenate(([self._stable_clf_weight], self._dynamic_clfs_weights))\n",
    "        )\n",
    "    \n",
    "    def _calculate_margin(self, x):\n",
    "        ensemble, weights = self._get_compact_ensemble_with_weights()\n",
    "        \n",
    "        supports = SupportsExtractor(ensemble=ensemble, weights=weights).extract([x])[0]\n",
    "    \n",
    "        max_to_min_indices = np.argsort(supports)[::-1]\n",
    "        \n",
    "        return supports[max_to_min_indices[0]] - supports[max_to_min_indices[1]] \n",
    "    \n",
    "    def _get_randomly_chosen_instances_to_label(self):\n",
    "        instances_to_label_count = int(self._initial_selection_ratio * len(self._cache))\n",
    "        random_idxs = np.random.choice(len(self._cache), instances_to_label_count, replace=False)\n",
    "        \n",
    "        return np.take(self._cache, random_idxs, axis=0)\n",
    "        \n",
    "    def _create_new_classifier(self):\n",
    "        instances = self._get_randomly_chosen_instances_to_label()\n",
    "        x = np.stack(instances[:, 0]) # TODO(bgulowaty): make this more elegant\n",
    "        y = np.stack(instances[:, 1])\n",
    "        if self._stable_clf != None:\n",
    "            self._update_stable_classifier(x, y)\n",
    "        \n",
    "        return self._classifier_supplier.get(x, y, self._classes)\n",
    "        \n",
    "        \n",
    "    def _update_weights(self):\n",
    "        self._dynamic_clfs_weights = [current_weight * (1 - 1/self._dynamics_clfs_limit)\n",
    "                                                        for current_weight in self._dynamic_clfs_weights]\n",
    "        self._dynamic_clfs_weights[-1] = 1/self._dynamics_clfs_limit\n",
    "    \n",
    "    \n",
    "    def _update_stable_classifier(self, x, y):\n",
    "        self._update_classifier(x, y, self._stable_clf)\n",
    "            \n",
    "    def _get_randomly_selected_cache_instances(self):\n",
    "        random_instances_count = np.ceil(len(self._cache) * self._selection_ratio)\n",
    "        instances_with_labels = np.random.choice(self._cache, random_instances_count)\n",
    "        \n",
    "        return map(list, zip(*instances_with_labels))\n",
    "        \n",
    "        \n",
    "    def _update_dynamic_classifiers(self, x, y):\n",
    "        for clf in self._dynamic_clfs:\n",
    "            self._update_classifier(x, y, clf)\n",
    "    \n",
    "    \n",
    "    def _deal_instance(self, new_instance, i):\n",
    "        x, y = self._cache[i]\n",
    "        \n",
    "        labeling = self._uncertainty_stragety(x)\n",
    "        \n",
    "        if labeling is False:\n",
    "            labeling = self._random_strategy(x)\n",
    "            \n",
    "        if labeling is True:\n",
    "            self._update_stable_classifier(x, y)\n",
    "            self._update_dynamic_classifiers(x, y)\n",
    "            \n",
    "        self._cache[i] = new_instance\n"
   ]
  },
  {
   "cell_type": "code",
   "execution_count": 10,
   "metadata": {},
   "outputs": [],
   "source": [
    "from strlearn.evaluators import PrequentialEvaluator, TestThenTrainEvaluator"
   ]
  },
  {
   "cell_type": "code",
   "execution_count": 80,
   "metadata": {},
   "outputs": [
    {
     "data": {
      "text/plain": [
       "GaussianNB(priors=None, var_smoothing=1e-09)"
      ]
     },
     "execution_count": 80,
     "metadata": {},
     "output_type": "execute_result"
    }
   ],
   "source": [
    "\n",
    "clf1.fit(x, y)from sklearn.tree import DecisionTreeClassifier\n",
    "from sklearn.svm import LinearSVC\n",
    "clf1 = GaussianNB()\n",
    "clf2 = GaussianNB()\n",
    "clf2.fit(x, y)"
   ]
  },
  {
   "cell_type": "code",
   "execution_count": 222,
   "metadata": {},
   "outputs": [],
   "source": [
    "@attrs\n",
    "class WeightedMajorityPredictionCombiner(BaseEnsemblePredictionCombiner):\n",
    "    _ensemble = attrib()\n",
    "    _weights = attrib()\n",
    "    _classes = attrib()\n",
    "\n",
    "    \n",
    "    def get_supports(self, x):\n",
    "        return SupportsExtractor(self._ensemble, self._weights).extract(x)\n",
    "    \n",
    "    def predict(self, x):\n",
    "        x = check_array(x)\n",
    "        \n",
    "        supports_sum_by_sample = self.get_supports(x)\n",
    "\n",
    "        predictions = [self._classes[idx] for idx in np.argmax(supports_sum_by_sample, axis=1)]\n",
    "    \n",
    "        return np.array(predictions)\n",
    "    \n",
    "    def predict_proba(self, x):\n",
    "        x = check_array(x)\n",
    "        \n",
    "        return self.get_supports(x)"
   ]
  },
  {
   "cell_type": "code",
   "execution_count": 119,
   "metadata": {},
   "outputs": [
    {
     "data": {
      "text/plain": [
       "array([[0.25      , 0.22222222, 0.33333333],\n",
       "       [0.75      , 0.77777778, 0.66666667]])"
      ]
     },
     "execution_count": 119,
     "metadata": {},
     "output_type": "execute_result"
    }
   ],
   "source": [
    "z = np.array([\n",
    "    [1,2,5],\n",
    "    [3, 7, 10]\n",
    "])\n",
    "\n",
    "z/z.sum(axis=0)"
   ]
  },
  {
   "cell_type": "code",
   "execution_count": 221,
   "metadata": {},
   "outputs": [],
   "source": [
    "from sklearn.preprocessing import normalize\n",
    "\n",
    "@attrs(auto_attribs=True, frozen=True)\n",
    "class SupportsExtractor():\n",
    "    _ensemble: List[Classifier] = None\n",
    "    _weights: List[int] = None\n",
    "    _normalized: bool = False\n",
    "    \n",
    "    def extract(self, x):\n",
    "        all_members_can_return_supports = all([hasattr(clf, 'predict_proba') for clf in self._ensemble])\n",
    "        if all_members_can_return_supports:\n",
    "            supports_by_clf = [clf.predict_proba(x) * weight for (weight, clf) in zip(self._weights, self._ensemble)]\n",
    "            return self._normalize_if_required(sum(supports_by_clf))\n",
    "            \n",
    "        else:\n",
    "            predictions_by_clf = [clf.predict(x) for clf in self._ensemble]\n",
    "            supports_by_clf = [\n",
    "                np.vstack(\n",
    "                    [(predictions == clazz).T * weight for clazz in self._classes]\n",
    "                ) for (weight, predictions) in zip(self._weights, predictions_by_clf)\n",
    "            ]\n",
    "\n",
    "            return self._normalize_if_required(sum(supports_by_clf).T)\n",
    "        \n",
    "    def _normalize_if_required(self,supports):\n",
    "        return normalize(supports, axis=0) if self._normalized else supports \n",
    "        "
   ]
  },
  {
   "cell_type": "code",
   "execution_count": 21,
   "metadata": {},
   "outputs": [],
   "source": [
    "stream = StreamGenerator(chunk_size=500, n_chunks=2)\n",
    "\n",
    "x = stream.get_chunk()"
   ]
  },
  {
   "cell_type": "code",
   "execution_count": 180,
   "metadata": {},
   "outputs": [
    {
     "data": {
      "text/plain": [
       "array([0])"
      ]
     },
     "execution_count": 180,
     "metadata": {},
     "output_type": "execute_result"
    }
   ],
   "source": [
    "clf._get_compact_ensemble_with_weights()[0][0].classes_"
   ]
  },
  {
   "cell_type": "code",
   "execution_count": 231,
   "metadata": {},
   "outputs": [
    {
     "name": "stdout",
     "output_type": "stream",
     "text": [
      "work\n"
     ]
    }
   ],
   "source": []
  },
  {
   "cell_type": "code",
   "execution_count": 234,
   "metadata": {},
   "outputs": [],
   "source": [
    "import strlearn as sl\n",
    "stream = sl.streams.ARFFParser(\"airlines.arff\")\n",
    "clf = sl.classifiers.AccumulatedSamplesClassifier()"
   ]
  },
  {
   "cell_type": "code",
   "execution_count": 236,
   "metadata": {},
   "outputs": [
    {
     "ename": "AttributeError",
     "evalue": "'ARFFParser' object has no attribute 'n_classes'",
     "output_type": "error",
     "traceback": [
      "\u001b[0;31m---------------------------------------------------------------------------\u001b[0m",
      "\u001b[0;31mAttributeError\u001b[0m                            Traceback (most recent call last)",
      "\u001b[0;32m<ipython-input-236-c8ec3f29e7f4>\u001b[0m in \u001b[0;36m<module>\u001b[0;34m\u001b[0m\n\u001b[1;32m      2\u001b[0m \u001b[0;31m# stream = StreamGenerator(chunk_size=500, n_chunks=10)\u001b[0m\u001b[0;34m\u001b[0m\u001b[0;34m\u001b[0m\u001b[0;34m\u001b[0m\u001b[0m\n\u001b[1;32m      3\u001b[0m \u001b[0mclf\u001b[0m \u001b[0;34m=\u001b[0m \u001b[0mOALE\u001b[0m\u001b[0;34m(\u001b[0m\u001b[0mblock_size\u001b[0m\u001b[0;34m=\u001b[0m\u001b[0;36m100\u001b[0m\u001b[0;34m)\u001b[0m\u001b[0;34m\u001b[0m\u001b[0;34m\u001b[0m\u001b[0m\n\u001b[0;32m----> 4\u001b[0;31m \u001b[0mevaluator\u001b[0m\u001b[0;34m.\u001b[0m\u001b[0mprocess\u001b[0m\u001b[0;34m(\u001b[0m\u001b[0mstream\u001b[0m\u001b[0;34m,\u001b[0m \u001b[0mclf\u001b[0m\u001b[0;34m)\u001b[0m\u001b[0;34m\u001b[0m\u001b[0;34m\u001b[0m\u001b[0m\n\u001b[0m",
      "\u001b[0;32m~/work/stream-learn/strlearn/evaluators/PrequentialEvaluator.py\u001b[0m in \u001b[0;36mprocess\u001b[0;34m(self, stream, clf, interval)\u001b[0m\n\u001b[1;32m     66\u001b[0m         \u001b[0mself\u001b[0m\u001b[0;34m.\u001b[0m\u001b[0mstream\u001b[0m \u001b[0;34m=\u001b[0m \u001b[0mstream\u001b[0m\u001b[0;34m\u001b[0m\u001b[0;34m\u001b[0m\u001b[0m\n\u001b[1;32m     67\u001b[0m         \u001b[0mself\u001b[0m\u001b[0;34m.\u001b[0m\u001b[0minterval\u001b[0m \u001b[0;34m=\u001b[0m \u001b[0minterval\u001b[0m\u001b[0;34m\u001b[0m\u001b[0;34m\u001b[0m\u001b[0m\n\u001b[0;32m---> 68\u001b[0;31m         \u001b[0mself\u001b[0m\u001b[0;34m.\u001b[0m\u001b[0mclasses_\u001b[0m \u001b[0;34m=\u001b[0m \u001b[0mnp\u001b[0m\u001b[0;34m.\u001b[0m\u001b[0marray\u001b[0m\u001b[0;34m(\u001b[0m\u001b[0mrange\u001b[0m\u001b[0;34m(\u001b[0m\u001b[0mstream\u001b[0m\u001b[0;34m.\u001b[0m\u001b[0mn_classes\u001b[0m\u001b[0;34m)\u001b[0m\u001b[0;34m)\u001b[0m\u001b[0;34m\u001b[0m\u001b[0;34m\u001b[0m\u001b[0m\n\u001b[0m\u001b[1;32m     69\u001b[0m \u001b[0;34m\u001b[0m\u001b[0m\n\u001b[1;32m     70\u001b[0m         \u001b[0mintervals_per_chunk\u001b[0m \u001b[0;34m=\u001b[0m \u001b[0mint\u001b[0m\u001b[0;34m(\u001b[0m\u001b[0mself\u001b[0m\u001b[0;34m.\u001b[0m\u001b[0mstream\u001b[0m\u001b[0;34m.\u001b[0m\u001b[0mchunk_size\u001b[0m \u001b[0;34m/\u001b[0m \u001b[0mself\u001b[0m\u001b[0;34m.\u001b[0m\u001b[0minterval\u001b[0m\u001b[0;34m)\u001b[0m\u001b[0;34m\u001b[0m\u001b[0;34m\u001b[0m\u001b[0m\n",
      "\u001b[0;31mAttributeError\u001b[0m: 'ARFFParser' object has no attribute 'n_classes'"
     ]
    }
   ],
   "source": [
    "evaluator = PrequentialEvaluator()\n",
    "stream = StreamGenerator(chunk_ size=500, n_chunks=10)\n",
    "clf = OALE(block_size=100)\n",
    "evaluator.process(stream, clf)"
   ]
  },
  {
   "cell_type": "code",
   "execution_count": 225,
   "metadata": {},
   "outputs": [
    {
     "data": {
      "text/plain": [
       "array([[0.92      , 0.91948888, 0.91930766, 0.91948888, 0.92337165],\n",
       "       [0.922     , 0.92171491, 0.92163836, 0.92171491, 0.9245648 ],\n",
       "       [0.914     , 0.91454901, 0.9143388 , 0.91454901, 0.91348089],\n",
       "       [0.896     , 0.89830645, 0.89788671, 0.89830645, 0.8907563 ],\n",
       "       [0.898     , 0.90182286, 0.90112792, 0.90182286, 0.891258  ],\n",
       "       [0.888     , 0.89001307, 0.88974405, 0.89001307, 0.88085106],\n",
       "       [0.89      , 0.89447464, 0.89343925, 0.89447464, 0.88421053],\n",
       "       [0.892     , 0.89284108, 0.89274435, 0.89284108, 0.88702929],\n",
       "       [0.904     , 0.90397542, 0.90397411, 0.90397542, 0.90243902],\n",
       "       [0.916     , 0.91596666, 0.91592872, 0.91596666, 0.91699605],\n",
       "       [0.922     , 0.92172473, 0.92143923, 0.92172473, 0.9245648 ],\n",
       "       [0.914     , 0.91384181, 0.91383744, 0.91384181, 0.91840607],\n",
       "       [0.91      , 0.90727273, 0.90686272, 0.90727273, 0.91949911],\n",
       "       [0.918     , 0.91611842, 0.91586887, 0.91611842, 0.92558984],\n",
       "       [0.908     , 0.90392319, 0.90323971, 0.90392319, 0.91929825],\n",
       "       [0.912     , 0.91096145, 0.9109107 , 0.91096145, 0.92057762],\n",
       "       [0.906     , 0.90548487, 0.90544909, 0.90548487, 0.91181989],\n",
       "       [0.906     , 0.90607399, 0.90602679, 0.90607399, 0.90618762],\n",
       "       [0.908     , 0.90803053, 0.90799845, 0.90803053, 0.90836653],\n",
       "       [0.902     , 0.90215043, 0.90136618, 0.90215043, 0.90522244],\n",
       "       [0.92      , 0.91959542, 0.91924769, 0.91959542, 0.92307692],\n",
       "       [0.93      , 0.92884615, 0.92839812, 0.92884615, 0.93433396],\n",
       "       [0.92      , 0.9181754 , 0.91759711, 0.9181754 , 0.92619926],\n",
       "       [0.912     , 0.90995162, 0.90945287, 0.90995162, 0.91941392],\n",
       "       [0.918     , 0.91786269, 0.91722051, 0.91786269, 0.92100193],\n",
       "       [0.912     , 0.91397021, 0.91329281, 0.91397021, 0.91056911],\n",
       "       [0.904     , 0.90480769, 0.90458235, 0.90480769, 0.90243902],\n",
       "       [0.9       , 0.9010839 , 0.9009028 , 0.9010839 , 0.89626556],\n",
       "       [0.886     , 0.88793672, 0.88757097, 0.88793672, 0.88100209],\n",
       "       [0.886     , 0.8881562 , 0.88765117, 0.8881562 , 0.88198758],\n",
       "       [0.896     , 0.89547005, 0.89527001, 0.89547005, 0.90038314],\n",
       "       [0.894     , 0.89434479, 0.89388314, 0.89434479, 0.89587426],\n",
       "       [0.89      , 0.89      , 0.88994382, 0.89      , 0.89108911],\n",
       "       [0.904     , 0.90389016, 0.90384381, 0.90389016, 0.90588235],\n",
       "       [0.902     , 0.90187888, 0.90184711, 0.90187888, 0.90410959],\n",
       "       [0.896     , 0.89650363, 0.89643056, 0.89650363, 0.89300412],\n",
       "       [0.892     , 0.89202735, 0.89202681, 0.89202735, 0.88934426],\n",
       "       [0.912     , 0.91227537, 0.91198671, 0.91227537, 0.91304348],\n",
       "       [0.908     , 0.90803383, 0.90803321, 0.90803383, 0.91050584],\n",
       "       [0.916     , 0.9145947 , 0.91440776, 0.9145947 , 0.92279412],\n",
       "       [0.922     , 0.91818182, 0.9173876 , 0.91818182, 0.93097345],\n",
       "       [0.914     , 0.91070853, 0.90977869, 0.91070853, 0.92280072],\n",
       "       [0.9       , 0.89917392, 0.8985149 , 0.89917392, 0.90530303],\n",
       "       [0.9       , 0.90093033, 0.90031744, 0.90093033, 0.90079365],\n",
       "       [0.892     , 0.89388084, 0.8935716 , 0.89388084, 0.88655462]])"
      ]
     },
     "execution_count": 225,
     "metadata": {},
     "output_type": "execute_result"
    }
   ],
   "source": [
    "evaluator.scores_"
   ]
  },
  {
   "cell_type": "code",
   "execution_count": 133,
   "metadata": {},
   "outputs": [],
   "source": [
    "import seaborn as sns"
   ]
  },
  {
   "cell_type": "code",
   "execution_count": 226,
   "metadata": {},
   "outputs": [
    {
     "data": {
      "text/plain": [
       "<matplotlib.axes._subplots.AxesSubplot at 0x7fb58f0e84a8>"
      ]
     },
     "execution_count": 226,
     "metadata": {},
     "output_type": "execute_result"
    },
    {
     "data": {
      "image/png": "[encoded data removed]",
      "text/plain": [
       "<Figure size 432x288 with 1 Axes>"
      ]
     },
     "metadata": {
      "needs_background": "light"
     },
     "output_type": "display_data"
    }
   ],
   "source": [
    "sns.lineplot(data=evaluator.scores_[:, 3])"
   ]
  },
  {
   "cell_type": "code",
   "execution_count": 145,
   "metadata": {},
   "outputs": [
    {
     "data": {
      "text/plain": [
       "<matplotlib.axes._subplots.AxesSubplot at 0x7fb58f5dcc50>"
      ]
     },
     "execution_count": 145,
     "metadata": {},
     "output_type": "execute_result"
    },
    {
     "data": {
      "image/png": "[encoded data removed]",
      "text/plain": [
       "<Figure size 432x288 with 1 Axes>"
      ]
     },
     "metadata": {
      "needs_background": "light"
     },
     "output_type": "display_data"
    }
   ],
   "source": [
    "sns.lineplot(data=evaluator.scores_[:, 3])"
   ]
  },
  {
   "cell_type": "code",
   "execution_count": 11,
   "metadata": {},
   "outputs": [],
   "source": []
  }
 ],
 "metadata": {
  "kernelspec": {
   "display_name": "Python 3",
   "language": "python",
   "name": "python3"
  },
  "language_info": {
   "codemirror_mode": {
    "name": "ipython",
    "version": 3
   },
   "file_extension": ".py",
   "mimetype": "text/x-python",
   "name": "python",
   "nbconvert_exporter": "python",
   "pygments_lexer": "ipython3",
   "version": "3.7.3"
  }
 },
 "nbformat": 4,
 "nbformat_minor": 4
}
