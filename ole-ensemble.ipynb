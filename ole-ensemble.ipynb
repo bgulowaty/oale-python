{
 "cells": [
  {
   "cell_type": "code",
   "execution_count": 5,
   "metadata": {},
   "outputs": [
    {
     "name": "stdout",
     "output_type": "stream",
     "text": [
      "Obtaining file:///home/jovyan/work/stream-learn\n",
      "Requirement already satisfied: numpy in /opt/conda/lib/python3.7/site-packages (from stream-learn==0.7.1) (1.17.2)\n",
      "Requirement already satisfied: scipy in /opt/conda/lib/python3.7/site-packages (from stream-learn==0.7.1) (1.3.1)\n",
      "Requirement already satisfied: scikit-learn in /opt/conda/lib/python3.7/site-packages (from stream-learn==0.7.1) (0.21.3)\n",
      "Requirement already satisfied: tqdm in /opt/conda/lib/python3.7/site-packages (from stream-learn==0.7.1) (4.32.2)\n",
      "Requirement already satisfied: future in /opt/conda/lib/python3.7/site-packages (from stream-learn==0.7.1) (0.18.2)\n",
      "Requirement already satisfied: joblib>=0.11 in /opt/conda/lib/python3.7/site-packages (from scikit-learn->stream-learn==0.7.1) (0.13.2)\n",
      "Installing collected packages: stream-learn\n",
      "  Found existing installation: stream-learn 0.7.1\n",
      "    Uninstalling stream-learn-0.7.1:\n",
      "      Successfully uninstalled stream-learn-0.7.1\n",
      "  Running setup.py develop for stream-learn\n",
      "Successfully installed stream-learn\n"
     ]
    }
   ],
   "source": [
    "!pip install -e ./stream-learn"
   ]
  },
  {
   "cell_type": "code",
   "execution_count": 1,
   "metadata": {},
   "outputs": [
    {
     "name": "stdout",
     "output_type": "stream",
     "text": [
      "Requirement already satisfied: attrs in /opt/conda/lib/python3.7/site-packages (19.1.0)\n"
     ]
    }
   ],
   "source": [
    "!pip install attrs"
   ]
  },
  {
   "cell_type": "code",
   "execution_count": 2,
   "metadata": {},
   "outputs": [],
   "source": [
    "from strlearn.streams import StreamGenerator"
   ]
  },
  {
   "cell_type": "code",
   "execution_count": 11,
   "metadata": {},
   "outputs": [],
   "source": [
    "stream = StreamGenerator(n_classes=2, n_drifts=1)"
   ]
  },
  {
   "cell_type": "code",
   "execution_count": 42,
   "metadata": {},
   "outputs": [],
   "source": [
    "import numpy as np\n",
    "from attr import attrs, attrib, Factory\n",
    "from copy import deepcopy\n",
    "from typing import List, Callable, NewType, Any, Optional, Dict\n",
    "from sklearn.naive_bayes import GaussianNB\n",
    "from abc import ABC, abstractmethod"
   ]
  },
  {
   "cell_type": "code",
   "execution_count": 89,
   "metadata": {},
   "outputs": [],
   "source": [
    "Classifier = NewType('Classifier', Any)\n",
    "Instance = NewType('Instance', Any)"
   ]
  },
  {
   "cell_type": "code",
   "execution_count": 92,
   "metadata": {},
   "outputs": [],
   "source": [
    "class OALELabelingStrategy(ABC):\n",
    "    \n",
    "    @abstractmethod\n",
    "    def label(x: Instance): raise NotImplementedError"
   ]
  },
  {
   "cell_type": "code",
   "execution_count": 91,
   "metadata": {},
   "outputs": [],
   "source": [
    "@attrs(auto_attribs=True)\n",
    "class RandomStrategy(OALELabelingStrategy):\n",
    "    _threshold_adjustment_step: int = attrib(default=0.1)\n",
    "        \n",
    "    def label(x: Instance):\n",
    "        if self._threshold_adjustment_step <= np.random.uniform():\n",
    "            return true\n",
    "        return false\n",
    "        "
   ]
  },
  {
   "cell_type": "code",
   "execution_count": 90,
   "metadata": {},
   "outputs": [],
   "source": [
    "@attrs(auto_attribs=True)\n",
    "class UncertaintyStrategy(OALELabelingStrategy):\n",
    "    _threshold_margin:int = attrib()\n",
    "    _threshold_adjustment_step: int = attrib()\n",
    "        \n",
    "    def label(x: Instance):\n",
    "        return true # TODO(bgulowaty)"
   ]
  },
  {
   "cell_type": "code",
   "execution_count": 40,
   "metadata": {},
   "outputs": [],
   "source": [
    "@attrs(auto_attribs=True)\n",
    "class OALE:\n",
    "    _classifier_provider: Callable[[List[Instance], List[Any]], Classifier] = None\n",
    "    _block_size: int = 5 # I\n",
    "    _dynamics_classifiers: int = 20 # D\n",
    "    _threshold_adjustment_step: int = attrib(default=0.5) # s\n",
    "    _selection_ratio: int = 0.5 # r, how many of the cached instances are used in building new classifier\n",
    "    _margin_threshold: int = attrib(default=1) # theta\n",
    "    _random_strategy: OLE\n",
    "    \n",
    "#     _ensemble: List = attrib(factory=list, init=False)\n",
    "    _classes: List = attrib(factory=list, init=False)\n",
    "    \n",
    "    _cache: List = attrib(factory=list, init=False) # of tuples (x,y)\n",
    "    _processed_instances: int = attrib(default=0, init=False)\n",
    "    _dynamic_clfs_count: int = attrib(default=0, init=False)\n",
    "    _theta_m: int = attrib(default=0, init=False)\n",
    "    _stable_clf: Optional[Classifier] = attrib(default=None, init=False)\n",
    "    _dynamic_clfs: List[Classifier] = attrib(factory=list, init=False)\n",
    "    \n",
    "    ## SINGLE INSTANCE\n",
    "    def partial_fit(self, x, y, classes):\n",
    "        self._classes = classes\n",
    "        self._processed_instances += 1\n",
    "        \n",
    "        if self._processed_instances < self._block_size: # fill the circular array for the first time\n",
    "            self._cache[self._processed_instances - 1] = x\n",
    "            \n",
    "        elif self._processed_instances == self._block_size: # the first fill of the circular array\n",
    "            self._cache[self._processed_instances - 1] = x\n",
    "            new_clf = self._create_new_classifier()\n",
    "            self._dynamic_clfs_count = 1\n",
    "            self._stable_clf = new_clf # create C_s\n",
    "            self._dynamic_clfs.append(deepcopy(new_clf)) #  create the first dynamic classifier\n",
    "        else: # more instances processed than block size\n",
    "            i = (self._processed_instances - 1)%self._block_size\n",
    "            self._deal_instance(x, i)\n",
    "            i = (i + 1)%self._block_size\n",
    "            if i == 0: \n",
    "                self._k += 1\n",
    "                new_clf = self._create_new_classifier()\n",
    "                self._theta_m = self._margin_threshold * 2/len(self.classes)\n",
    "                if self._k > len(self._dynamics_classifiers): \n",
    "                    self._dynamic_clfs = np.delete(self._dynamic_clfs, 0)\n",
    "                    self._dynamic_clfs[self._dynamics_classifiers] = new_clf\n",
    "                self._update_weights()\n",
    "        \n",
    "        for i in range(0, self._block_size - 1):\n",
    "            x_ins = self._A[i]\n",
    "            self._deal_instance(x_ins, i, self._random_strategy, self._theta_m, self._threshold_adjustment_step)\n",
    "                \n",
    "                \n",
    "    def _create_new_classifier(self):\n",
    "        instances, labels = self.instances_to_label_count()\n",
    "        \n",
    "        if not self._stable_clf is None:\n",
    "            self._update_stable_classifier(instances, labels)\n",
    "        \n",
    "        return self._classifier_provider(instances, labels)\n",
    "        \n",
    "        \n",
    "    def _update_stable_classifier(self, x, y):\n",
    "        try:\n",
    "            self._stable_clf.partial_fit(x, y, self._classes)\n",
    "        except e:\n",
    "            self._stable_clf.fit(x, y)\n",
    "            \n",
    "    def _get_randomly_selected_cache_instances(self):\n",
    "        random_instances_count = np.ceil(len(self._cache) * self._selection_ratio)\n",
    "        instances_with_labels = np.random.choice(self._cache, random_instances_count)\n",
    "        \n",
    "        return map(list, zip(*instances_with_labels))\n",
    "        \n",
    "        \n",
    "        \n",
    "        \n",
    "    def _deal_instance(x_new, i, sigma, theta_m, s):\n",
    "        x_i = self._A[i]\n",
    "        labeling = self.\n",
    "    \n"
   ]
  },
  {
   "cell_type": "code",
   "execution_count": 12,
   "metadata": {},
   "outputs": [
    {
     "data": {
      "text/plain": [
       "(array([[ 0.85801241, -0.37418577, -2.22585776, ..., -0.92462048,\n",
       "         -1.45106402, -1.02171288],\n",
       "        [ 0.34225386,  0.87562143,  0.49849884, ...,  0.38081094,\n",
       "         -0.49283377, -0.71939448],\n",
       "        [ 0.08939893,  0.38352274,  1.17993825, ..., -0.5758609 ,\n",
       "          1.02622519, -0.84828413],\n",
       "        ...,\n",
       "        [-0.27052349, -1.30232049,  2.61901435, ...,  0.95900937,\n",
       "          0.74613897, -0.33467108],\n",
       "        [-0.26074908, -0.21394778, -2.06927428, ...,  0.39128634,\n",
       "          0.46021334,  1.36650102],\n",
       "        [ 0.40400803, -0.87146794, -0.36472071, ...,  0.81808583,\n",
       "          1.49451413,  1.10835393]]),\n",
       " array([1, 1, 1, 0, 0, 1, 1, 0, 1, 0, 1, 0, 0, 1, 1, 0, 0, 0, 1, 0, 1, 0,\n",
       "        1, 0, 1, 0, 0, 0, 0, 0, 0, 0, 0, 0, 1, 1, 1, 1, 1, 1, 1, 1, 1, 1,\n",
       "        1, 1, 1, 1, 1, 0, 0, 0, 1, 1, 0, 0, 1, 0, 1, 0, 0, 0, 0, 1, 0, 1,\n",
       "        0, 0, 0, 1, 0, 1, 1, 0, 0, 0, 0, 1, 1, 0, 1, 0, 1, 1, 1, 0, 1, 1,\n",
       "        1, 1, 0, 1, 1, 1, 1, 0, 0, 0, 0, 1, 0, 0, 0, 0, 0, 0, 1, 1, 1, 1,\n",
       "        0, 0, 0, 1, 0, 0, 0, 0, 0, 1, 1, 0, 1, 0, 1, 0, 1, 0, 0, 1, 0, 1,\n",
       "        1, 0, 1, 1, 0, 0, 1, 1, 0, 0, 1, 0, 1, 0, 0, 1, 1, 0, 0, 1, 1, 0,\n",
       "        0, 1, 0, 1, 0, 1, 1, 1, 1, 1, 1, 0, 1, 1, 0, 0, 1, 1, 1, 0, 0, 0,\n",
       "        0, 1, 1, 1, 0, 0, 1, 0, 0, 0, 0, 0, 1, 0, 1, 0, 1, 0, 0, 0, 1, 1,\n",
       "        1, 1]))"
      ]
     },
     "execution_count": 12,
     "metadata": {},
     "output_type": "execute_result"
    }
   ],
   "source": [
    "stream.get_chunk()"
   ]
  }
 ],
 "metadata": {
  "kernelspec": {
   "display_name": "Python 3",
   "language": "python",
   "name": "python3"
  },
  "language_info": {
   "codemirror_mode": {
    "name": "ipython",
    "version": 3
   },
   "file_extension": ".py",
   "mimetype": "text/x-python",
   "name": "python",
   "nbconvert_exporter": "python",
   "pygments_lexer": "ipython3",
   "version": "3.7.3"
  }
 },
 "nbformat": 4,
 "nbformat_minor": 4
}
