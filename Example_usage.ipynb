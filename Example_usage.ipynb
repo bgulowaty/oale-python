{
 "cells": [
  {
   "cell_type": "code",
   "execution_count": 1,
   "metadata": {},
   "outputs": [
    {
     "name": "stdout",
     "output_type": "stream",
     "text": [
      "Requirement already satisfied: scikit-multiflow in /opt/conda/lib/python3.7/site-packages (0.4.1)\n",
      "Requirement already satisfied: pandas>=0.21.0 in /opt/conda/lib/python3.7/site-packages (from scikit-multiflow) (0.25.1)\n",
      "Requirement already satisfied: sortedcontainers>=1.5.7 in /opt/conda/lib/python3.7/site-packages (from scikit-multiflow) (2.1.0)\n",
      "Requirement already satisfied: scipy>=1.0.0 in /opt/conda/lib/python3.7/site-packages (from scikit-multiflow) (1.3.1)\n",
      "Requirement already satisfied: matplotlib>=2.0.0 in /opt/conda/lib/python3.7/site-packages (from scikit-multiflow) (3.1.1)\n",
      "Requirement already satisfied: scikit-learn>=0.20 in /opt/conda/lib/python3.7/site-packages (from scikit-multiflow) (0.21.3)\n",
      "Requirement already satisfied: numpy>=1.11.0 in /opt/conda/lib/python3.7/site-packages (from scikit-multiflow) (1.17.2)\n",
      "Requirement already satisfied: pytz>=2017.2 in /opt/conda/lib/python3.7/site-packages (from pandas>=0.21.0->scikit-multiflow) (2019.2)\n",
      "Requirement already satisfied: python-dateutil>=2.6.1 in /opt/conda/lib/python3.7/site-packages (from pandas>=0.21.0->scikit-multiflow) (2.8.0)\n",
      "Requirement already satisfied: kiwisolver>=1.0.1 in /opt/conda/lib/python3.7/site-packages (from matplotlib>=2.0.0->scikit-multiflow) (1.1.0)\n",
      "Requirement already satisfied: pyparsing!=2.0.4,!=2.1.2,!=2.1.6,>=2.0.1 in /opt/conda/lib/python3.7/site-packages (from matplotlib>=2.0.0->scikit-multiflow) (2.4.2)\n",
      "Requirement already satisfied: cycler>=0.10 in /opt/conda/lib/python3.7/site-packages (from matplotlib>=2.0.0->scikit-multiflow) (0.10.0)\n",
      "Requirement already satisfied: joblib>=0.11 in /opt/conda/lib/python3.7/site-packages (from scikit-learn>=0.20->scikit-multiflow) (0.13.2)\n",
      "Requirement already satisfied: six>=1.5 in /opt/conda/lib/python3.7/site-packages (from python-dateutil>=2.6.1->pandas>=0.21.0->scikit-multiflow) (1.12.0)\n",
      "Requirement already satisfied: setuptools in /opt/conda/lib/python3.7/site-packages (from kiwisolver>=1.0.1->matplotlib>=2.0.0->scikit-multiflow) (41.0.1)\n"
     ]
    }
   ],
   "source": [
    "!pip install scikit-multiflow"
   ]
  },
  {
   "cell_type": "code",
   "execution_count": 2,
   "metadata": {},
   "outputs": [
    {
     "name": "stdout",
     "output_type": "stream",
     "text": [
      "Obtaining file:///home/jovyan/work\n",
      "Requirement already satisfied: numpy in /opt/conda/lib/python3.7/site-packages (from stream-learn==0.8.1) (1.17.2)\n",
      "Requirement already satisfied: scipy in /opt/conda/lib/python3.7/site-packages (from stream-learn==0.8.1) (1.3.1)\n",
      "Requirement already satisfied: scikit-learn in /opt/conda/lib/python3.7/site-packages (from stream-learn==0.8.1) (0.21.3)\n",
      "Requirement already satisfied: tqdm in /opt/conda/lib/python3.7/site-packages (from stream-learn==0.8.1) (4.32.2)\n",
      "Collecting future (from stream-learn==0.8.1)\n",
      "\u001b[?25l  Downloading https://files.pythonhosted.org/packages/45/0b/38b06fd9b92dc2b68d58b75f900e97884c45bedd2ff83203d933cf5851c9/future-0.18.2.tar.gz (829kB)\n",
      "\u001b[K     |████████████████████████████████| 829kB 1.0MB/s eta 0:00:01\n",
      "\u001b[?25hRequirement already satisfied: joblib>=0.11 in /opt/conda/lib/python3.7/site-packages (from scikit-learn->stream-learn==0.8.1) (0.13.2)\n",
      "Building wheels for collected packages: future\n",
      "  Building wheel for future (setup.py) ... \u001b[?25ldone\n",
      "\u001b[?25h  Created wheel for future: filename=future-0.18.2-cp37-none-any.whl size=491057 sha256=a81a1c6b7bba3a0cb267e6e4dd00f323771eb1d808cc6f84f1328741fdde9838\n",
      "  Stored in directory: /home/jovyan/.cache/pip/wheels/8b/99/a0/81daf51dcd359a9377b110a8a886b3895921802d2fc1b2397e\n",
      "Successfully built future\n",
      "Installing collected packages: future, stream-learn\n",
      "  Running setup.py develop for stream-learn\n",
      "Successfully installed future-0.18.2 stream-learn\n"
     ]
    }
   ],
   "source": [
    "!pip install -e . "
   ]
  },
  {
   "cell_type": "code",
   "execution_count": null,
   "metadata": {},
   "outputs": [],
   "source": [
    "import strlearn as sl\n",
    "from skmultiflow.trees import HoeffdingTree\n",
    "stream = sl.streams.ARFFParser('dane.arff', chunk_size=500)\n",
    "evaluator = sl.evaluators.TestThenTrainEvaluator()\n",
    "tree_used_in_moa = HoeffdingTree(grace_period=100, memory_estimate_period=2000000, split_confidence=0.01)\n",
    "clf = sl.ensembles.OALE(\n",
    "    block_size=50,\n",
    "    dynamic_clfs_limit=9,\n",
    "    random_strategy_threshold=0.01, \n",
    "    margin_threshold=0.5,\n",
    "    threshold_adjustment_step=0.01,\n",
    "    initial_selection_ratio=0.1,\n",
    "    classifier_supplier=sl.base.ClassifierSupplier(classifier=tree_used_in_moa)\n",
    ")\n",
    "evaluator.process(stream, clf)"
   ]
  }
 ],
 "metadata": {
  "kernelspec": {
   "display_name": "Python 3",
   "language": "python",
   "name": "python3"
  },
  "language_info": {
   "codemirror_mode": {
    "name": "ipython",
    "version": 3
   },
   "file_extension": ".py",
   "mimetype": "text/x-python",
   "name": "python",
   "nbconvert_exporter": "python",
   "pygments_lexer": "ipython3",
   "version": "3.7.3"
  }
 },
 "nbformat": 4,
 "nbformat_minor": 4
}
