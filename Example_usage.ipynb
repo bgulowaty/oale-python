{
 "cells": [
  {
   "cell_type": "code",
   "execution_count": null,
   "metadata": {},
   "outputs": [],
   "source": [
    "!pip install scikit-multiflow"
   ]
  },
  {
   "cell_type": "code",
   "execution_count": null,
   "metadata": {},
   "outputs": [],
   "source": [
    "!pip install -e . "
   ]
  },
  {
   "cell_type": "code",
   "execution_count": null,
   "metadata": {},
   "outputs": [],
   "source": [
    "import strlearn as sl\n",
    "from skmultiflow.trees import HoeffdingTree\n",
    "stream = sl.streams.ARFFParser('dane.arff', chunk_size=1000, n_chunks=10) # 1m samples HYP\n",
    "evaluator = sl.evaluators.TestThenTrainEvaluator()\n",
    "tree_used_in_moa = HoeffdingTree(grace_period=100, memory_estimate_period=2000000, split_confidence=0.01)\n",
    "clf = sl.ensembles.OALE(\n",
    "    block_size=50,\n",
    "    dynamic_clfs_limit=9,\n",
    "    random_strategy_threshold=0.01, \n",
    "    margin_threshold=0.5,\n",
    "    threshold_adjustment_step=0.01,\n",
    "    initial_selection_ratio=0.1,\n",
    "    classifier_supplier=sl.base.ClassifierSupplier(classifier=tree_used_in_moa)\n",
    ")\n",
    "evaluator.process(stream, clf)"
   ]
  },
  {
   "cell_type": "markdown",
   "metadata": {},
   "source": [
    "## Compare results"
   ]
  },
  {
   "cell_type": "code",
   "execution_count": null,
   "metadata": {},
   "outputs": [],
   "source": [
    "import pandas as pd"
   ]
  },
  {
   "cell_type": "code",
   "execution_count": null,
   "metadata": {},
   "outputs": [],
   "source": [
    "acc_moa = pd.read_csv('results.csv')['classifications correct (percent)']/100\n",
    "acc_moa"
   ]
  },
  {
   "cell_type": "code",
   "execution_count": null,
   "metadata": {},
   "outputs": [],
   "source": [
    "acc = evaluator.scores_[0][:, 0]\n",
    "acc"
   ]
  }
 ],
 "metadata": {
  "kernelspec": {
   "display_name": "Python 3",
   "language": "python",
   "name": "python3"
  },
  "language_info": {
   "codemirror_mode": {
    "name": "ipython",
    "version": 3
   },
   "file_extension": ".py",
   "mimetype": "text/x-python",
   "name": "python",
   "nbconvert_exporter": "python",
   "pygments_lexer": "ipython3",
   "version": "3.7.3"
  }
 },
 "nbformat": 4,
 "nbformat_minor": 4
}
